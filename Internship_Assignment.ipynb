{
 "cells": [
  {
   "cell_type": "markdown",
   "id": "a0f06d55",
   "metadata": {},
   "source": [
    "# INTERNSHIP TASK\n",
    "Generate 5 questions based on below Job Sector, Category and Title. The questions are w.r.t to assess skills of Job Seeker. The questions will be used to evaluate which job applicant is the most fit.\n"
   ]
  },
  {
   "cell_type": "markdown",
   "id": "64825ba5",
   "metadata": {},
   "source": [
    "# INTRODUCTION\n",
    "WE WILL USE LANGCHAIN TO PERFORM THIS TASK\n",
    " \n",
    "**WHAT IS LANGCHAIN?**\n",
    "\n",
    "\n",
    "LangChain is a framework for developing applications powered by language models.\n",
    "LangChain makes the complicated parts of working & building with AI models easier.\n",
    "\n",
    "**WHY LANGCHAIN?**\n",
    "\n",
    "\n",
    "**1.Components** - LangChain makes it easy to swap out abstractions and components necessary to work with language models.\n",
    "\n",
    "**2.Customized Chains** - LangChain provides out of the box support for using and customizing 'chains' - a series of actions strung together.\n",
    "\n",
    "**3.Speed** - This team ships insanely fast. You'll be up to date with the latest LLM features.\n",
    "\n",
    "Though LLMs can be straightforward (text-in, text-out) you'll quickly run into friction points that LangChain helps with once you develop more complicated applications."
   ]
  },
  {
   "cell_type": "code",
   "execution_count": 58,
   "id": "572896fa",
   "metadata": {},
   "outputs": [],
   "source": [
    "#This is our OpenAI API KEY\n",
    "#An API key is a token that a client provides when making API calls.\n",
    "#APIs are interfaces that help build software and define how pieces of software interact with each other. \n",
    "#They control requests made between programs, how those requests are made, and the data formats used. \n",
    "\n",
    "\n",
    "openai_api_key='api_key'"
   ]
  },
  {
   "cell_type": "markdown",
   "id": "ed7e04e5",
   "metadata": {},
   "source": [
    "# USING PROMPTS\n",
    "\n",
    "Prompts - Text generally used as instructions to your model.It is What you'll pass to the underlying model"
   ]
  },
  {
   "cell_type": "code",
   "execution_count": 22,
   "id": "96609f6a",
   "metadata": {},
   "outputs": [
    {
     "data": {
      "text/plain": [
       "'\\nThat statement is missing Tuesday.'"
      ]
     },
     "execution_count": 22,
     "metadata": {},
     "output_type": "execute_result"
    }
   ],
   "source": [
    "from langchain.llms import OpenAI\n",
    "\n",
    "llm = OpenAI(model_name=\"text-davinci-003\", openai_api_key=openai_api_key)\n",
    "\n",
    "# I  used three double quotation marks for my prompts because it's easier to read\n",
    "prompt = \"\"\"\n",
    "Today is Monday, tomorrow is Wednesday.\n",
    "\n",
    "What is wrong with that statement?\n",
    "\"\"\"\n",
    "\n",
    "llm(prompt)"
   ]
  },
  {
   "cell_type": "markdown",
   "id": "47b7710d",
   "metadata": {},
   "source": [
    "# USING PROMPT TEMPLATE"
   ]
  },
  {
   "cell_type": "markdown",
   "id": "8113ae5e",
   "metadata": {},
   "source": [
    "# PROMPT TEMPLATE\n",
    "\n",
    "An object that helps create prompts based on a combination of user input, other non-static information and a fixed template string."
   ]
  },
  {
   "cell_type": "markdown",
   "id": "d6fd9b4d",
   "metadata": {},
   "source": [
    "# Generating Questions\n",
    "\n",
    "Questions are generated using Prompt Template in LangChain."
   ]
  },
  {
   "cell_type": "markdown",
   "id": "86494ea5",
   "metadata": {},
   "source": [
    "# Generating\n",
    "\n",
    "\n",
    "**1.** Agriculture,Engineering,Crop Monitoring Technician\n",
    "\n",
    "**2.** Engineering,Quality Assurance and Control,Quality Inspector\n",
    "\n",
    "**3**  Refineries,Operations and Production,Field Operator\n",
    "\n"
   ]
  },
  {
   "cell_type": "markdown",
   "id": "26f08e54",
   "metadata": {},
   "source": [
    "# 1. Agriculture,Engineering,Crop Monitoring Technician"
   ]
  },
  {
   "cell_type": "code",
   "execution_count": 24,
   "id": "e17acd5d",
   "metadata": {},
   "outputs": [
    {
     "name": "stdout",
     "output_type": "stream",
     "text": [
      "Final Prompt: \n",
      "I want 5 questions that are needed to ask to a job seeker given the Agriculture , Crop Monitoring Technician and Engineering\"\n",
      "\n",
      "-----------\n",
      "LLM Output: \n",
      "1. What experience do you have in agriculture engineering?\n",
      "2. What technical skills do you possess related to crop monitoring?\n",
      "3. How do you stay up to date with the latest developments in agriculture engineering?\n",
      "4. What challenges have you faced in the past when working on crop monitoring projects?\n",
      "5. How do you ensure that crop monitoring projects are completed on time and within budget?\n"
     ]
    }
   ],
   "source": [
    "from langchain.llms import OpenAI\n",
    "from langchain import PromptTemplate\n",
    "\n",
    "llm = OpenAI(model_name=\"text-davinci-003\", openai_api_key=openai_api_key)\n",
    "\n",
    "# Notice \"location\" below, that is a placeholder for another value later\n",
    "template = \"\"\"\n",
    "I want 5 questions that are needed to ask to a job seeker given the {job_sector} , {job_title} and {job_category}\"\n",
    "\"\"\"\n",
    "\n",
    "prompt = PromptTemplate(\n",
    "    input_variables=[\"job_sector\",\"job_title\",\"job_category\"],\n",
    "    template=template,\n",
    ")\n",
    "\n",
    "final_prompt = prompt.format(job_sector='Agriculture',job_title=\"Crop Monitoring Technician\",job_category=\"Engineering\")\n",
    "\n",
    "print (f\"Final Prompt: {final_prompt}\")\n",
    "print (\"-----------\")\n",
    "print (f\"LLM Output: {llm(final_prompt)}\")"
   ]
  },
  {
   "cell_type": "markdown",
   "id": "6fd54e00",
   "metadata": {},
   "source": [
    "# 2.Engineering,Quality Assurance and Control,Quality Inspector"
   ]
  },
  {
   "cell_type": "code",
   "execution_count": 26,
   "id": "c70f4761",
   "metadata": {},
   "outputs": [
    {
     "name": "stdout",
     "output_type": "stream",
     "text": [
      "Final Prompt: \n",
      "I want 5 questions that are needed to ask to a job seeker given the Engineering , Quality Inspector and Quality Assurance and Control\"\n",
      "\n",
      "-----------\n",
      "LLM Output: \n",
      "1. What experience do you have in engineering?\n",
      "2. What specific quality inspection techniques have you used?\n",
      "3. How do you ensure that quality standards are being met?\n",
      "4. What methods do you use to prevent defects and reduce costs?\n",
      "5. How have you implemented quality assurance and control processes in your previous positions?\n"
     ]
    }
   ],
   "source": [
    "from langchain.llms import OpenAI\n",
    "from langchain import PromptTemplate\n",
    "\n",
    "llm = OpenAI(model_name=\"text-davinci-003\", openai_api_key=openai_api_key)\n",
    "\n",
    "# Notice \"location\" below, that is a placeholder for another value later\n",
    "template = \"\"\"\n",
    "I want 5 questions that are needed to ask to a job seeker given the {job_sector} , {job_title} and {job_category}\"\n",
    "\"\"\"\n",
    "\n",
    "prompt = PromptTemplate(\n",
    "    input_variables=[\"job_sector\",\"job_title\",\"job_category\"],\n",
    "    template=template,\n",
    ")\n",
    "\n",
    "final_prompt = prompt.format(job_sector='Engineering',job_title=\"Quality Inspector\",job_category=\"Quality Assurance and Control\")\n",
    "\n",
    "print (f\"Final Prompt: {final_prompt}\")\n",
    "print (\"-----------\")\n",
    "print (f\"LLM Output: {llm(final_prompt)}\")"
   ]
  },
  {
   "cell_type": "markdown",
   "id": "ec162bfc",
   "metadata": {},
   "source": [
    "### 3.Refineries,Operations and Production,Field Operator"
   ]
  },
  {
   "cell_type": "code",
   "execution_count": 27,
   "id": "578ec700",
   "metadata": {},
   "outputs": [
    {
     "name": "stdout",
     "output_type": "stream",
     "text": [
      "Final Prompt: \n",
      "I want 5 questions that are needed to ask to a job seeker given the Refineries , Field Operator and Operations and Production\"\n",
      "\n",
      "-----------\n",
      "LLM Output: \n",
      "1. What experience do you have in refineries operations and production?\n",
      "2. How have you handled challenging situations while working in a refinery?\n",
      "3. What safety protocols have you employed while working as a field operator?\n",
      "4. Describe a successful project you have completed in the refinery operations and production field.\n",
      "5. What methods have you used to optimize the efficiency of refinery operations and production?\n"
     ]
    }
   ],
   "source": [
    "from langchain.llms import OpenAI\n",
    "from langchain import PromptTemplate\n",
    "\n",
    "llm = OpenAI(model_name=\"text-davinci-003\", openai_api_key=openai_api_key)\n",
    "\n",
    "# Notice \"location\" below, that is a placeholder for another value later\n",
    "template = \"\"\"\n",
    "I want 5 questions that are needed to ask to a job seeker given the {job_sector} , {job_title} and {job_category}\"\n",
    "\"\"\"\n",
    "\n",
    "prompt = PromptTemplate(\n",
    "    input_variables=[\"job_sector\",\"job_title\",\"job_category\"],\n",
    "    template=template,\n",
    ")\n",
    "\n",
    "final_prompt = prompt.format(job_sector='Refineries',job_title=\"Field Operator\",job_category=\"Operations and Production\")\n",
    "\n",
    "print (f\"Final Prompt: {final_prompt}\")\n",
    "print (\"-----------\")\n",
    "print (f\"LLM Output: {llm(final_prompt)}\")"
   ]
  },
  {
   "cell_type": "markdown",
   "id": "a3b78a44",
   "metadata": {},
   "source": [
    "# 2nd Method of Generating Questions:"
   ]
  },
  {
   "cell_type": "markdown",
   "id": "5078987c",
   "metadata": {},
   "source": [
    "# USING THE CHAT SCHEMA"
   ]
  },
  {
   "cell_type": "code",
   "execution_count": 25,
   "id": "7f1136e1",
   "metadata": {},
   "outputs": [],
   "source": [
    "from langchain.chat_models import ChatOpenAI\n",
    "from langchain.schema import HumanMessage,SystemMessage,AIMessage\n",
    "chat=ChatOpenAI(temperature=1.0,openai_api_key=openai_api_key)"
   ]
  },
  {
   "cell_type": "markdown",
   "id": "fbdf4bea",
   "metadata": {},
   "source": [
    "#  1. Agriculture,Engineering,Crop Monitoring Technician"
   ]
  },
  {
   "cell_type": "code",
   "execution_count": 8,
   "id": "47489438",
   "metadata": {},
   "outputs": [
    {
     "data": {
      "text/plain": [
       "AIMessage(content='Great! Here are five questions you could ask a job seeker for the position of Crop Monitoring Technician in Agriculture Engineering:\\n\\n1. What experience do you have with crop monitoring technology and software?\\n2. How familiar are you with the latest methods and tools for identifying pests and diseases that affect crops?\\n3. What is your experience with soil testing and analysis, and how would you go about preparing a soil sample for testing?\\n4. What is your experience with crop data collection and analysis, and how would you go about troubleshooting issues with data collection equipment?\\n5. How would you go about designing a crop monitoring plan for a farm or agricultural facility, and what factors would you take into consideration when doing so?', additional_kwargs={})"
      ]
     },
     "execution_count": 8,
     "metadata": {},
     "output_type": "execute_result"
    }
   ],
   "source": [
    "chat(\n",
    "    [\n",
    "    SystemMessage(content=\"You are a nice AI bot that helps user figure out 5 questions that are needed to ask to a job seeker given the job sector , job title and job category\"),\n",
    "      HumanMessage(content=\"I want to hire a Crop Monitoring Technician in Agriculture Engineering , What questions should I ask the job seeker?\")\n",
    "]\n",
    ")"
   ]
  },
  {
   "cell_type": "markdown",
   "id": "320c8925",
   "metadata": {},
   "source": [
    "# # 2.Engineering,Quality Assurance and Control,Quality Inspector"
   ]
  },
  {
   "cell_type": "code",
   "execution_count": 9,
   "id": "02bf1e42",
   "metadata": {},
   "outputs": [
    {
     "data": {
      "text/plain": [
       "AIMessage(content=\"Great! Here are five questions you could ask a job seeker applying for the role of Quality Inspector under Quality Assurance and Control Engineering:\\n\\n1. What experience do you have in quality inspection? \\nThis will help you gauge the candidate's familiarity with the Quality Inspection process. \\n\\n2. What tools and techniques have you used for quality inspection in the past?\\nThis will help you evaluate their understanding of Quality Control and Assurance methods.\\n\\n3. Can you describe a time when you identified a quality issue in a product and how you resolved it?\\nThis will give you an idea of their problem-solving skills and their ability to handle quality issues.\\n\\n4. How do you ensure that you maintain accurate and detailed records of your inspections?\\nThis will help you understand their organizational and record-keeping skills.\\n\\n5. Can you describe a time when you had to communicate quality issues to production staff or managers and how you did it?\\nThis will help you assess their communication skills and their ability to work with other teams to resolve quality issues.\", additional_kwargs={})"
      ]
     },
     "execution_count": 9,
     "metadata": {},
     "output_type": "execute_result"
    }
   ],
   "source": [
    "chat(\n",
    "    [\n",
    "    SystemMessage(content=\"You are a nice AI bot that helps user figure out 5 questions that are needed to ask to a job seeker given the job sector , job title and job category\"),\n",
    "      HumanMessage(content=\"I want to hire a Quality Inspector under Quality Assurance and Control Engineering , What questions should I ask the job seeker?\")\n",
    "]\n",
    ")"
   ]
  },
  {
   "cell_type": "markdown",
   "id": "92071cab",
   "metadata": {},
   "source": [
    "# ### 3.Refineries,Operations and Production,Field Operator"
   ]
  },
  {
   "cell_type": "code",
   "execution_count": 10,
   "id": "780c0aae",
   "metadata": {},
   "outputs": [
    {
     "data": {
      "text/plain": [
       "AIMessage(content='Great! Here are 5 questions you can ask a job seeker applying for a Field Operator position under Operations and Product Engineering category in Refineries sector:\\n\\n1. What experience do you have working in a refinery setting? \\n2. What are some common equipment and machinery that you use and maintain as a field operator in a refinery? \\n3. How do you prioritize your tasks and responsibilities when working in a fast-paced and demanding environment? \\n4. Have you received any training or certifications related to safety procedures in a refinery setting? \\n5. Can you share a situation where you had to troubleshoot a technical issue or malfunction with a piece of machinery on the field? How did you resolve the issue?', additional_kwargs={})"
      ]
     },
     "execution_count": 10,
     "metadata": {},
     "output_type": "execute_result"
    }
   ],
   "source": [
    "chat(\n",
    "    [\n",
    "    SystemMessage(content=\"You are a nice AI bot that helps user figure out 5 questions that are needed to ask to a job seeker given the job sector , job title and job category\"),\n",
    "      HumanMessage(content=\"I want to hire a Field Operator under Operations and Product Engineering category in Refineries sector , What questions should I ask the job seeker?\")\n",
    "]\n",
    ")"
   ]
  },
  {
   "cell_type": "markdown",
   "id": "aba29c2b",
   "metadata": {},
   "source": [
    "# Evaluating the most relevant profile\n",
    "\n",
    "Evaluating the most relevant profile using **FewShotPromptTemplate.**"
   ]
  },
  {
   "cell_type": "code",
   "execution_count": 30,
   "id": "014c7474",
   "metadata": {},
   "outputs": [],
   "source": [
    "from langchain import FewShotPromptTemplate\n",
    "\n",
    "# create our examples\n",
    "examples = [\n",
    "    {\n",
    "        \"query\": \"How are you?\",\n",
    "        \"answer\": \"I can't complain but sometimes I still do.\"\n",
    "    }, {\n",
    "        \"query\": \"What time is it?\",\n",
    "        \"answer\": \"It's time to get a watch.\"\n",
    "    }\n",
    "]\n",
    "\n",
    "# create a example template\n",
    "example_template = \"\"\"\n",
    "User: {query}\n",
    "AI: {answer}\n",
    "\"\"\"\n",
    "\n",
    "# create a prompt example from above template\n",
    "example_prompt = PromptTemplate(\n",
    "    input_variables=[\"query\", \"answer\"],\n",
    "    template=example_template\n",
    ")\n",
    "\n",
    "# now break our previous prompt into a prefix and suffix\n",
    "# the prefix is our instructions\n",
    "prefix = \"\"\"The following are exerpts from conversations with an AI\n",
    "assistant. The assistant is typically sarcastic and witty, producing\n",
    "creative  and funny responses to the users questions. Here are some\n",
    "examples: \n",
    "\"\"\"\n",
    "# and the suffix our user input and output indicator\n",
    "suffix = \"\"\"\n",
    "User: {query}\n",
    "AI: \"\"\"\n",
    "\n",
    "# now create the few shot prompt template\n",
    "few_shot_prompt_template = FewShotPromptTemplate(\n",
    "    examples=examples,\n",
    "    example_prompt=example_prompt,\n",
    "    prefix=prefix,\n",
    "    suffix=suffix,\n",
    "    input_variables=[\"query\"],\n",
    "    example_separator=\"\\n\\n\"\n",
    ")\n"
   ]
  },
  {
   "cell_type": "code",
   "execution_count": 62,
   "id": "9827ee0a",
   "metadata": {},
   "outputs": [
    {
     "name": "stdout",
     "output_type": "stream",
     "text": [
      "The following are exerpts from conversations with an AI\n",
      "assistant. The assistant evaluate the best job profile out of the given \n",
      "profiles with respect to the questions.\n",
      "1. What experience do you have in engineering?\n",
      "2. What specific quality inspection techniques have you used?\n",
      "3. How do you ensure that quality standards are being met?\n",
      "4. What methods do you use to prevent defects and reduce costs?\n",
      "5. How have you implemented quality assurance and control processes in your previous positions?\n",
      "The user provides the data that are answers to the above questions and assistant evaluate thebest profile .\n",
      "\n",
      "\n",
      "\n",
      "User: Profile_1 : 2 years experience , No techniques , No idea , Precautionary methods , Not implemented Profile_2 : 0 years experience , No techniques , By analysing data , No idea , No  Profile_3: 3 years experience , Sample Checking , Customer focus Thinking , Measure Results , Yes Profile_4: 4 years experience , No idea , Leadership , No idea , Yes\n",
      "AI: Profile_3 is the most relevant profile\n",
      "\n",
      "\n",
      "\n",
      "User: Profile_1 : 1 years experience , No techniques , No idea , Precautionary methods , Yes Profile_2 : 0 years experience , No techniques , By analysing data , No idea , Yes Profile_3: 3 years experience , Sample Checking , Customer focus Thinking , Measure Results , No Profile_4: 4 years experience , Metal Detection , Leadership , No idea , Yes\n",
      "AI: Profile_4 is the most relevant profile\n",
      "\n",
      "\n",
      "\n",
      "User: Profile_1 : 1 years experience , No techniques , No idea , Precautionary methods , No Profile_2 : 2 years experience , Pre Shipment Inspection , By analysing data , Customer Focus thinking , Yes Profile_3: 1 years experience , Sample Checking , No idea , Measure Results , No Profile_4: 4 years experience , Metal Detection , Leadership , No idea , No\n",
      "AI: Profile_2 is the most relevant Profile\n",
      "\n",
      "\n",
      "\n",
      "User: What is the meaning of life?\n",
      "AI: \n"
     ]
    }
   ],
   "source": [
    "\n",
    "query = \"What is the meaning of life?\"\n",
    "\n",
    "print(few_shot_prompt_template.format(query=query))"
   ]
  },
  {
   "cell_type": "markdown",
   "id": "afcaad22",
   "metadata": {},
   "source": [
    "# 1.Agriculture,Engineering,Crop Monitoring Technician\n",
    "\n",
    "\n"
   ]
  },
  {
   "cell_type": "code",
   "execution_count": 51,
   "id": "12739d06",
   "metadata": {},
   "outputs": [],
   "source": [
    "from langchain import FewShotPromptTemplate\n",
    "\n",
    "# create our examples\n",
    "examples2 = [\n",
    "    {\n",
    "        \"query\": \"Profile_1 : 2 years experience , Monitoring techniques , News , Poor Infrastructure , Customer Focus thinking Profile_2 : 0 years experience , Monitoring techniques , By analysing data , Poor team management , No idea  Profile_3: 3 years experience , Monitoring techniques and Sample Checking ,Internet and Data Analyse, Poor infrastructure and average farm size , Customer focus thinking and team work Profile_4: 4 years experience , Monitoring Techniques , News , Poor Infrastructure , Team work\",\n",
    "        \"answer\": \"Profile_3 is the most relevant profile\"\n",
    "    }, {\n",
    "        \"query\": \"Profile_1 : 2 years experience , Monitoring techniques and Collecting Data , Internet and News , Poor Infrastructure and Small farm size , Customer Focus thinking and Team work Profile_2 : 0 years experience , Monitoring techniques , By analysing data and News , Poor team management , Team work and customer focus thinking Profile_3: 3 years experience , Monitoring techniques and Sample Checking ,Internet , Poor infrastructure  , Customer focus thinking  Profile_4: 4 years experience , Monitoring Techniques , News , Poor Infrastructure , Team work\",\n",
    "        \"answer\": \"Profile_1 is the most relevant profile\"\n",
    "    },{\n",
    "        \"query\":\"2 years experience , Monitoring techniques , News , Poor Infrastructure , Customer Focus thinking Profile_2 : 0 years experience , Monitoring techniques , By analysing data , Poor team management , No idea  Profile_3: 3 years experience , Monitoring techniques and Sample Checking ,News and Data Analyse, Poor infrastructure and average farm size , Customer focus thinking  Profile_4: 4 years experience , Monitoring Techniques , Internet and Analyze Data , Poor Infrastructure and small farm size , Team work and Customer Focus thinking\",\n",
    "        \"answer\":\"Profile_4 is the most relevant Profile\"\n",
    "    }\n",
    "]\n",
    "\n",
    "# create a example template\n",
    "example_template2 = \"\"\"\n",
    "User: {query}\n",
    "AI: {answer}\n",
    "\"\"\"\n",
    "\n",
    "# create a prompt example from above template\n",
    "example_prompt2 = PromptTemplate(\n",
    "    input_variables=[\"query\", \"answer\"],\n",
    "    template=example_template2\n",
    ")\n",
    "\n",
    "# now break our previous prompt into a prefix and suffix\n",
    "# the prefix is our instructions\n",
    "prefix2 = \"\"\"The following are exerpts from conversations with an AI\n",
    "assistant. The assistant evaluate the best job profile out of the given \n",
    "profiles with respect to the questions.\n",
    "1. What experience do you have in agriculture engineering?\n",
    "2. What technical skills do you possess related to crop monitoring?\n",
    "3. How do you stay up to date with the latest developments in agriculture engineering?\n",
    "4. What challenges have you faced in the past when working on crop monitoring projects?\n",
    "5. How do you ensure that crop monitoring projects are completed on time and within budget?\n",
    "\"\"\"\n",
    "# and the suffix our user input and output indicator\n",
    "suffix2 = \"\"\"\n",
    "User: {query}\n",
    "AI: \"\"\"\n",
    "\n",
    "# now create the few shot prompt template\n",
    "few_shot_prompt_template1 = FewShotPromptTemplate(\n",
    "    examples=examples2,\n",
    "    example_prompt=example_prompt2,\n",
    "    prefix=prefix2,\n",
    "    suffix=suffix2,\n",
    "    input_variables=[\"query\"],\n",
    "    example_separator=\"\\n\\n\"\n",
    ")"
   ]
  },
  {
   "cell_type": "code",
   "execution_count": 52,
   "id": "a1a506ed",
   "metadata": {},
   "outputs": [],
   "source": [
    "query = \"2 years experience , Monitoring techniques , News , Poor Infrastructure , Customer Focus thinking Profile_2 : 0 years experience , Monitoring techniques , By analysing data , Poor team management , No idea  Profile_3: 3 years experience , Monitoring techniques and Sample Checking ,Internet and Data Analyse, Poor infrastructure and average farm size , Customer focus thinking and Team Work  Profile_4: 4 years experience , Monitoring Techniques , News , Poor Infrastructure and small farm size , Team work \"\n",
    "\n"
   ]
  },
  {
   "cell_type": "code",
   "execution_count": 53,
   "id": "0c717784",
   "metadata": {},
   "outputs": [
    {
     "name": "stdout",
     "output_type": "stream",
     "text": [
      " Profile_3 is the most relevant profile.\n"
     ]
    }
   ],
   "source": [
    "print(llm(\n",
    "    few_shot_prompt_template.format(query=query)\n",
    "))"
   ]
  },
  {
   "cell_type": "markdown",
   "id": "7eb0c3bd",
   "metadata": {},
   "source": [
    "## 2.Engineering,Quality Assurance and Control,Quality Inspector\n",
    "\n"
   ]
  },
  {
   "cell_type": "code",
   "execution_count": 45,
   "id": "af70e402",
   "metadata": {},
   "outputs": [],
   "source": [
    "from langchain import FewShotPromptTemplate\n",
    "\n",
    "# create our examples\n",
    "examples = [\n",
    "    {\n",
    "        \"query\": \"Profile_1 : 2 years experience , No techniques , No idea , Precautionary methods , Not implemented Profile_2 : 0 years experience , No techniques , By analysing data , No idea , No  Profile_3: 3 years experience , Sample Checking , Customer focus Thinking , Measure Results , Yes Profile_4: 4 years experience , No idea , Leadership , No idea , Yes\",\n",
    "        \"answer\": \"Profile_3 is the most relevant profile\"\n",
    "    }, {\n",
    "        \"query\": \"Profile_1 : 1 years experience , No techniques , No idea , Precautionary methods , Yes Profile_2 : 0 years experience , No techniques , By analysing data , No idea , Yes Profile_3: 3 years experience , Sample Checking , Customer focus Thinking , Measure Results , No Profile_4: 4 years experience , Metal Detection , Leadership , No idea , Yes\",\n",
    "        \"answer\": \"Profile_4 is the most relevant profile\"\n",
    "    },{\n",
    "        \"query\":\"Profile_1 : 1 years experience , No techniques , No idea , Precautionary methods , No Profile_2 : 2 years experience , Pre Shipment Inspection , By analysing data , Customer Focus thinking , Yes Profile_3: 1 years experience , Sample Checking , No idea , Measure Results , No Profile_4: 4 years experience , Metal Detection , Leadership , No idea , No\",\n",
    "        \"answer\":\"Profile_2 is the most relevant Profile\"\n",
    "    }\n",
    "]\n",
    "\n",
    "# create a example template\n",
    "example_template = \"\"\"\n",
    "User: {query}\n",
    "AI: {answer}\n",
    "\"\"\"\n",
    "\n",
    "# create a prompt example from above template\n",
    "example_prompt = PromptTemplate(\n",
    "    input_variables=[\"query\", \"answer\"],\n",
    "    template=example_template\n",
    ")\n",
    "\n",
    "# now break our previous prompt into a prefix and suffix\n",
    "# the prefix is our instructions\n",
    "prefix = \"\"\"The following are exerpts from conversations with an AI\n",
    "assistant. The assistant evaluate the best job profile out of the given \n",
    "profiles with respect to the questions.\n",
    "1. What experience do you have in engineering?\n",
    "2. What specific quality inspection techniques have you used?\n",
    "3. How do you ensure that quality standards are being met?\n",
    "4. What methods do you use to prevent defects and reduce costs?\n",
    "5. How have you implemented quality assurance and control processes in your previous positions?\n",
    "The user provides the data that are answers to the above questions and assistant evaluate thebest profile .\n",
    "\"\"\"\n",
    "# and the suffix our user input and output indicator\n",
    "suffix = \"\"\"\n",
    "User: {query}\n",
    "AI: \"\"\"\n",
    "\n",
    "# now create the few shot prompt template\n",
    "few_shot_prompt_template = FewShotPromptTemplate(\n",
    "    examples=examples,\n",
    "    example_prompt=example_prompt,\n",
    "    prefix=prefix,\n",
    "    suffix=suffix,\n",
    "    input_variables=[\"query\"],\n",
    "    example_separator=\"\\n\\n\"\n",
    ")"
   ]
  },
  {
   "cell_type": "code",
   "execution_count": 46,
   "id": "10decb0c",
   "metadata": {},
   "outputs": [
    {
     "name": "stdout",
     "output_type": "stream",
     "text": [
      "The following are exerpts from conversations with an AI\n",
      "assistant. The assistant evaluate the best job profile out of the given \n",
      "profiles with respect to the questions.\n",
      "1. What experience do you have in engineering?\n",
      "2. What specific quality inspection techniques have you used?\n",
      "3. How do you ensure that quality standards are being met?\n",
      "4. What methods do you use to prevent defects and reduce costs?\n",
      "5. How have you implemented quality assurance and control processes in your previous positions?\n",
      "The user provides the data that are answers to the above questions and assistant evaluate thebest profile .\n",
      "\n",
      "\n",
      "\n",
      "User: Profile_1 : 2 years experience , No techniques , No idea , Precautionary methods , Not implemented Profile_2 : 0 years experience , No techniques , By analysing data , No idea , No  Profile_3: 3 years experience , Sample Checking , Customer focus Thinking , Measure Results , Yes Profile_4: 4 years experience , No idea , Leadership , No idea , Yes\n",
      "AI: Profile_3 is the most relevant profile\n",
      "\n",
      "\n",
      "\n",
      "User: Profile_1 : 1 years experience , No techniques , No idea , Precautionary methods , Yes Profile_2 : 0 years experience , No techniques , By analysing data , No idea , Yes Profile_3: 3 years experience , Sample Checking , Customer focus Thinking , Measure Results , No Profile_4: 4 years experience , Metal Detection , Leadership , No idea , Yes\n",
      "AI: Profile_4 is the most relevant profile\n",
      "\n",
      "\n",
      "\n",
      "User: Profile_1 : 1 years experience , No techniques , No idea , Precautionary methods , No Profile_2 : 2 years experience , Pre Shipment Inspection , By analysing data , Customer Focus thinking , Yes Profile_3: 1 years experience , Sample Checking , No idea , Measure Results , No Profile_4: 4 years experience , Metal Detection , Leadership , No idea , No\n",
      "AI: Profile_2 is the most relevant Profile\n",
      "\n",
      "\n",
      "\n",
      "User: Profile_1 : 1 years experience , No techniques , No idea , Precautionary methods , No Profile_2 : 2 years experience , Pre Shipment Inspection , By analysing data , No Idea , No Profile_3: 1 years experience , Sample Checking , No idea , Measure Results , NoProfile_4: 4 years experience , Metal Detection , Leadership , No idea , Yes\n",
      "AI: \n"
     ]
    }
   ],
   "source": [
    "query = \"Profile_1 : 1 years experience , No techniques , No idea , Precautionary methods , No Profile_2 : 2 years experience , Pre Shipment Inspection , By analysing data , No Idea , No Profile_3: 1 years experience , Sample Checking , No idea , Measure Results , NoProfile_4: 4 years experience , Metal Detection , Leadership , No idea , Yes\"\n",
    "\n",
    "print(few_shot_prompt_template.format(query=query))"
   ]
  },
  {
   "cell_type": "code",
   "execution_count": 47,
   "id": "a780df8c",
   "metadata": {},
   "outputs": [
    {
     "name": "stdout",
     "output_type": "stream",
     "text": [
      " Profile_4 is the most relevant Profile.\n"
     ]
    }
   ],
   "source": [
    "print(llm(\n",
    "    few_shot_prompt_template.format(query=query)\n",
    "))"
   ]
  },
  {
   "cell_type": "markdown",
   "id": "28601865",
   "metadata": {},
   "source": [
    "# 3.Refineries,Operations and Production,Field Operator\n",
    "\n",
    "\n",
    "\n"
   ]
  },
  {
   "cell_type": "code",
   "execution_count": 55,
   "id": "a249fd59",
   "metadata": {},
   "outputs": [],
   "source": [
    "from langchain import FewShotPromptTemplate\n",
    "\n",
    "# create our examples\n",
    "examples3 = [\n",
    "    {\n",
    "        \"query\": \"Profile_1 : 2 years experience , Pollution , Reporting Hazards , Crude Oil Project , Data Analyzing Profile_2 : 0 years experience , Air Pollution , No data , Crude Oil Project , Data Analysis  Profile_3: 3 years experience , Air Pollution ,Identifying and Reporting Hazards, Crude Oil and Refinery Project , Artificial Intelligence Techniques Profile_4: 4 years experience , Pollution , Identifying Hazards , Refinery Projects , Data Analysis\",\n",
    "        \"answer\": \"Profile_3 is the most relevant profile\"\n",
    "    }, {\n",
    "        \"query\": \"Profile_1 : 2 years experience , Air Pollution ,Identifying and Reporting Hazards , Crude Oil Projects and Refinery Projects , Data Analyzing and AI Profile_2 : 0 years experience , Air Pollution , Hazard Identification , Crude Oil Project , Data Analysis  Profile_3: 3 years experience , Air Pollution , Reporting Hazards, Refinery Project , Artificial Intelligence Techniques Profile_4: 4 years experience , Air Pollution , Identifying and Reporting Hazards , Refinery and Oil Projects , Data Analysis and AI \",\n",
    "        \"answer\": \"Profile_4 is the most relevant profile\"\n",
    "    },{\n",
    "        \"query\":\"Profile_1 : 2 years experience , Air Pollution and Data Shortage , Identifying and Reporting Hazards , Crude Oil Projects and Refinery Projects , Data Analyzing Profile_2 : 0 years experience , Air Pollution , No data , Crude Oil Project , Data Analysis and Artificial INtelligence  Profile_3: 3 years experience , Air Pollution ,Identifying Hazards, Crude Oil  Project , Optimized Team Work  Profile_4: 4 years experience , Pollution , Identifying Hazards , Refinery Project, Better team work\",\n",
    "        \"answer\":\"Profile_1 is the most relevant Profile\"\n",
    "    }\n",
    "]\n",
    "\n",
    "# create a example template\n",
    "example_template3 = \"\"\"\n",
    "User: {query}\n",
    "AI: {answer}\n",
    "\"\"\"\n",
    "\n",
    "# create a prompt example from above template\n",
    "example_prompt3 = PromptTemplate(\n",
    "    input_variables=[\"query\", \"answer\"],\n",
    "    template=example_template3\n",
    ")\n",
    "\n",
    "# now break our previous prompt into a prefix and suffix\n",
    "# the prefix is our instructions\n",
    "prefix3 = \"\"\"\n",
    "1. What experience do you have in refineries operations and production?\n",
    "2. How have you handled challenging situations while working in a refinery?\n",
    "3. What safety protocols have you employed while working as a field operator?\n",
    "4. Describe a successful project you have completed in the refinery operations and production field.\n",
    "5. What methods have you used to optimize the efficiency of refinery operations and production?\n",
    "\"\"\"\n",
    "# and the suffix our user input and output indicator\n",
    "suffix3 = \"\"\"\n",
    "User: {query}\n",
    "AI: \"\"\"\n",
    "\n",
    "# now create the few shot prompt template\n",
    "few_shot_prompt_template1 = FewShotPromptTemplate(\n",
    "    examples=examples3,\n",
    "    example_prompt=example_prompt2,\n",
    "    prefix=prefix3,\n",
    "    suffix=suffix3,\n",
    "    input_variables=[\"query\"],\n",
    "    example_separator=\"\\n\\n\"\n",
    ")"
   ]
  },
  {
   "cell_type": "code",
   "execution_count": 56,
   "id": "3827d9de",
   "metadata": {},
   "outputs": [],
   "source": [
    "query=\"Profile_1 : 2 years experience , Air Pollution  , Identifying hazards , Crude Oil Projects  , Data Analyzing Profile_2 : 0 years experience , Air Pollution , No data , Crude Oil Project , Data Analysis and Artificial INtelligence  Profile_3: 3 years experience , Air Pollution ,Identifying and Reporting Hazards, Crude Oil and Refinery Projects , Artificial Intelligence and Data Analysis  Profile_4: 4 years experience , Pollution , Identifying Hazards , Refinery Project, Better team work\""
   ]
  },
  {
   "cell_type": "code",
   "execution_count": 57,
   "id": "c4dd2dbf",
   "metadata": {},
   "outputs": [
    {
     "name": "stdout",
     "output_type": "stream",
     "text": [
      " Profile_3 is the most relevant profile.\n"
     ]
    }
   ],
   "source": [
    "print(llm(\n",
    "    few_shot_prompt_template.format(query=query)\n",
    "))"
   ]
  },
  {
   "cell_type": "code",
   "execution_count": null,
   "id": "07d29563",
   "metadata": {},
   "outputs": [],
   "source": []
  }
 ],
 "metadata": {
  "kernelspec": {
   "display_name": "Python 3 (ipykernel)",
   "language": "python",
   "name": "python3"
  },
  "language_info": {
   "codemirror_mode": {
    "name": "ipython",
    "version": 3
   },
   "file_extension": ".py",
   "mimetype": "text/x-python",
   "name": "python",
   "nbconvert_exporter": "python",
   "pygments_lexer": "ipython3",
   "version": "3.10.9"
  }
 },
 "nbformat": 4,
 "nbformat_minor": 5
}
